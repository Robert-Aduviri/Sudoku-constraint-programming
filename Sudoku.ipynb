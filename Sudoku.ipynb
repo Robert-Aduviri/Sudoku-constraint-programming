{
 "cells": [
  {
   "cell_type": "markdown",
   "metadata": {
    "deletable": true,
    "editable": true
   },
   "source": [
    "### Util Functions"
   ]
  },
  {
   "cell_type": "code",
   "execution_count": 1,
   "metadata": {
    "collapsed": true,
    "deletable": true,
    "editable": true
   },
   "outputs": [],
   "source": [
    "def assign_value(values, box, value):\n",
    "    \"\"\"\n",
    "    Please use this function to update your values dictionary!\n",
    "    Assigns a value to a given box. If it updates the board record it.\n",
    "    \"\"\"\n",
    "\n",
    "    # Don't waste memory appending actions that don't actually change any values\n",
    "    if values[box] == value:\n",
    "        return values\n",
    "\n",
    "    values[box] = value\n",
    "    if len(value) == 1:\n",
    "        assignments.append(values.copy())\n",
    "    return values"
   ]
  },
  {
   "cell_type": "code",
   "execution_count": 2,
   "metadata": {
    "collapsed": true,
    "deletable": true,
    "editable": true
   },
   "outputs": [],
   "source": [
    "def cross(A, B):\n",
    "    \"Cross product of elements in A and elements in B.\"\n",
    "    return [s+t for s in A for t in B]"
   ]
  },
  {
   "cell_type": "code",
   "execution_count": 3,
   "metadata": {
    "collapsed": true,
    "deletable": true,
    "editable": true
   },
   "outputs": [],
   "source": [
    "def grid_values(grid):\n",
    "    \"\"\"\n",
    "    Convert grid into a dict of {square: char} with '123456789' for empties.\n",
    "    Args:\n",
    "        grid(string) - A grid in string form.\n",
    "    Returns:\n",
    "        A grid in dictionary form\n",
    "            Keys: The boxes, e.g., 'A1'\n",
    "            Values: The value in each box, e.g., '8'. If the box has no value, then the value will be '123456789'.\n",
    "    \"\"\"\n",
    "    assert len(grid) == 81, \"Input grid must be a string of length 81 (9x9)\"\n",
    "    return dict(zip(boxes, map(lambda x: '123456789' if x == '.' else x, grid)))"
   ]
  },
  {
   "cell_type": "code",
   "execution_count": 4,
   "metadata": {
    "collapsed": true,
    "deletable": true,
    "editable": true
   },
   "outputs": [],
   "source": [
    "def display(values):\n",
    "    \"\"\"\n",
    "    Display the values as a 2-D grid.\n",
    "    Args:\n",
    "        values(dict): The sudoku in dictionary form\n",
    "    \"\"\"\n",
    "    width = 1+max(len(values[s]) for s in boxes)\n",
    "    line = '+'.join(['-'*(width*3)]*3)\n",
    "    for r in rows:\n",
    "        print(''.join(values[r+c].center(width)+('|' if c in '36' else '')\n",
    "                      for c in cols))\n",
    "        if r in 'CF': print(line)\n",
    "    return"
   ]
  },
  {
   "cell_type": "markdown",
   "metadata": {
    "deletable": true,
    "editable": true
   },
   "source": [
    "### Eliminate strategy"
   ]
  },
  {
   "cell_type": "code",
   "execution_count": 5,
   "metadata": {
    "collapsed": true,
    "deletable": true,
    "editable": true
   },
   "outputs": [],
   "source": [
    "def eliminate(values):\n",
    "    \"\"\"Eliminate values from peers of each box with a single value.\n",
    "\n",
    "    Go through all the boxes, and whenever there is a box with a single value,\n",
    "    eliminate this value from the set of values of all its peers.\n",
    "\n",
    "    Args:\n",
    "        values: Sudoku in dictionary form.\n",
    "    Returns:\n",
    "        Resulting Sudoku in dictionary form after eliminating values.\n",
    "    \"\"\"\n",
    "    for box in values.keys(): \n",
    "        if len(values[box]) == 1:\n",
    "            for peer in peers[box]:\n",
    "                assign_value(values, peer, values[peer].replace(values[box], ''))\n",
    "                # values[peer] = values[peer].replace(values[box], '')\n",
    "    return values"
   ]
  },
  {
   "cell_type": "markdown",
   "metadata": {
    "deletable": true,
    "editable": true
   },
   "source": [
    "### Only Choice strategy"
   ]
  },
  {
   "cell_type": "code",
   "execution_count": 6,
   "metadata": {
    "collapsed": true,
    "deletable": true,
    "editable": true
   },
   "outputs": [],
   "source": [
    "def only_choice(values):\n",
    "    \"\"\"Finalize all values that are the only choice for a unit.\n",
    "\n",
    "    Go through all the units, and whenever there is a unit with a value\n",
    "    that only fits in one box, assign the value to this box.\n",
    "\n",
    "    Input: Sudoku in dictionary form.\n",
    "    Output: Resulting Sudoku in dictionary form after filling in only choices.\n",
    "    \"\"\"\n",
    "    for unit in unitlist:\n",
    "        for digit in '123456789':\n",
    "            d_places = [box for box in unit if digit in values[box]]\n",
    "            if len(d_places) == 1:\n",
    "                assign_value(values, d_places[0], digit)\n",
    "                # values[d_places[0]] = digit    \n",
    "    return values"
   ]
  },
  {
   "cell_type": "markdown",
   "metadata": {
    "deletable": true,
    "editable": true
   },
   "source": [
    "### [Naked Twins](http://www.sudokudragon.com/sudokustrategy.htm#XL2104) strategy"
   ]
  },
  {
   "cell_type": "code",
   "execution_count": 7,
   "metadata": {
    "collapsed": true,
    "deletable": true,
    "editable": true
   },
   "outputs": [],
   "source": [
    "def naked_twins(values):\n",
    "    \"\"\"Eliminate values using the naked twins strategy.\n",
    "    Args:\n",
    "        values(dict): a dictionary of the form {'box_name': '123456789', ...}\n",
    "\n",
    "    Returns:\n",
    "        the values dictionary with the naked twins eliminated from peers.\n",
    "    \"\"\"\n",
    "\n",
    "    # Find all instances of naked twins\n",
    "    # Eliminate the naked twins as possibilities for their peers\n",
    "    for unit in unitlist:\n",
    "        valuelist = [(values[box], box) for box in unit if len(values[box]) == 2]\n",
    "        valuelist = sorted(valuelist)\n",
    "        for i in range(len(valuelist) - 1):\n",
    "            _, box = valuelist[i]\n",
    "            _, next_box = valuelist[i+1]\n",
    "            if values[box] == values[next_box]:\n",
    "                for _box in unit:\n",
    "                    if _box != box and _box != next_box:\n",
    "                        assign_value(values, _box, values[_box]\n",
    "                            .replace(values[box][0], '')\n",
    "                            .replace(values[box][1], ''))\n",
    "                i += 2\n",
    "    return values"
   ]
  },
  {
   "cell_type": "markdown",
   "metadata": {
    "deletable": true,
    "editable": true
   },
   "source": [
    "### Reduce algorithm"
   ]
  },
  {
   "cell_type": "code",
   "execution_count": 8,
   "metadata": {
    "collapsed": true,
    "deletable": true,
    "editable": true
   },
   "outputs": [],
   "source": [
    "def reduce_puzzle(values):\n",
    "    stalled = False\n",
    "    while not stalled:\n",
    "        # Check how many boxes have a determined value\n",
    "        solved_values_before = len([box for box in values.keys() if len(values[box]) == 1])\n",
    "\n",
    "        # Your code here: Use the Eliminate Strategy\n",
    "        values = eliminate(values)\n",
    "\n",
    "        # Your code here: Use the Only Choice Strategy\n",
    "        values = only_choice(values)\n",
    "\n",
    "        # Check how many boxes have a determined value, to compare\n",
    "        solved_values_after = len([box for box in values.keys() if len(values[box]) == 1])\n",
    "        # If no new values were added, stop the loop.\n",
    "        stalled = solved_values_before == solved_values_after\n",
    "        # Sanity check, return False if there is a box with zero available values:\n",
    "        if len([box for box in values.keys() if len(values[box]) == 0]):\n",
    "            return False\n",
    "    return values"
   ]
  },
  {
   "cell_type": "markdown",
   "metadata": {
    "deletable": true,
    "editable": true
   },
   "source": [
    "### Search algorithm"
   ]
  },
  {
   "cell_type": "code",
   "execution_count": 9,
   "metadata": {
    "collapsed": true,
    "deletable": true,
    "editable": true
   },
   "outputs": [],
   "source": [
    "def search(values):\n",
    "    \"Using depth-first search and propagation, create a search tree and solve the sudoku.\"\n",
    "    # First, reduce the puzzle using the previous function\n",
    "    values = reduce_puzzle(values)\n",
    "    if values is False:\n",
    "        return False\n",
    "    \n",
    "    if all(len(values[box]) == 1 for box in boxes):\n",
    "        return values\n",
    "    \n",
    "    # Choose one of the unfilled squares with the fewest possibilities\n",
    "    _, next_box = min((len(values[box]), box) for box in boxes if len(values[box]) > 1)\n",
    "    \n",
    "    # Now use recursion to solve each one of the resulting sudokus, and if one returns a value (not False), return that answer!\n",
    "    for value in values[next_box]:\n",
    "        new_sudoku = values.copy()\n",
    "        assign_value(new_sudoku, next_box, value)\n",
    "        # new_sudoku[next_box] = value\n",
    "        attempt = search(new_sudoku)\n",
    "        if attempt: \n",
    "            return attempt\n",
    "    \n",
    "    return False"
   ]
  },
  {
   "cell_type": "markdown",
   "metadata": {
    "deletable": true,
    "editable": true
   },
   "source": [
    "### Sudoku solver"
   ]
  },
  {
   "cell_type": "code",
   "execution_count": 10,
   "metadata": {
    "collapsed": true,
    "deletable": true,
    "editable": true
   },
   "outputs": [],
   "source": [
    "def solve(grid):\n",
    "    \"\"\"\n",
    "    Find the solution to a Sudoku grid.\n",
    "    Args:\n",
    "        grid(string): a string representing a sudoku grid.\n",
    "            Example: '2.............62....1....7...6..8...3...9...7...6..4...4....8....52.............3'\n",
    "    Returns:\n",
    "        The dictionary representation of the final sudoku grid. False if no solution exists.\n",
    "    \"\"\"\n",
    "    return search(grid_values(grid))"
   ]
  },
  {
   "cell_type": "markdown",
   "metadata": {
    "deletable": true,
    "editable": true
   },
   "source": [
    "### Example"
   ]
  },
  {
   "cell_type": "code",
   "execution_count": 11,
   "metadata": {
    "collapsed": true,
    "deletable": true,
    "editable": true
   },
   "outputs": [],
   "source": [
    "rows = 'ABCDEFGHI'\n",
    "cols = '123456789'\n",
    "\n",
    "boxes = cross(rows, cols)\n",
    "\n",
    "row_units = [cross(r, cols) for r in rows]\n",
    "column_units = [cross(rows, c) for c in cols]\n",
    "square_units = [cross(rs, cs) for rs in ('ABC','DEF','GHI') for cs in ('123','456','789')]\n",
    "diagonal_units = [[s + t for s, t in zip(rows, cols)]] + [[s + t for s, t in zip(rows, cols[::-1])]]\n",
    "unitlist = row_units + column_units + square_units + diagonal_units\n",
    "units = dict((s, [u for u in unitlist if s in u]) for s in boxes)\n",
    "peers = dict((s, set(sum(units[s],[]))-set([s])) for s in boxes)"
   ]
  },
  {
   "cell_type": "code",
   "execution_count": 12,
   "metadata": {
    "collapsed": true,
    "deletable": true,
    "editable": true
   },
   "outputs": [],
   "source": [
    "assignments = []"
   ]
  },
  {
   "cell_type": "code",
   "execution_count": 13,
   "metadata": {
    "collapsed": false,
    "deletable": true,
    "editable": true
   },
   "outputs": [
    {
     "name": "stdout",
     "output_type": "stream",
     "text": [
      "2 6 7 |9 4 5 |3 8 1 \n",
      "8 5 3 |7 1 6 |2 4 9 \n",
      "4 9 1 |8 2 3 |5 7 6 \n",
      "------+------+------\n",
      "5 7 6 |4 3 8 |1 9 2 \n",
      "3 8 4 |1 9 2 |6 5 7 \n",
      "1 2 9 |6 5 7 |4 3 8 \n",
      "------+------+------\n",
      "6 4 2 |3 7 9 |8 1 5 \n",
      "9 3 5 |2 8 1 |7 6 4 \n",
      "7 1 8 |5 6 4 |9 2 3 \n",
      "We could not visualize your board due to a pygame issue. Not a problem! It is not a requirement.\n"
     ]
    }
   ],
   "source": [
    "diag_sudoku_grid = '2.............62....1....7...6..8...3...9...7...6..4...4....8....52.............3'\n",
    "display(solve(diag_sudoku_grid))\n",
    "\n",
    "try:\n",
    "    from visualize import visualize_assignments\n",
    "    visualize_assignments(assignments)\n",
    "\n",
    "except SystemExit:\n",
    "    pass\n",
    "except:\n",
    "    print('We could not visualize your board due to a pygame issue. Not a problem! It is not a requirement.')\n"
   ]
  },
  {
   "cell_type": "code",
   "execution_count": null,
   "metadata": {
    "collapsed": true,
    "deletable": true,
    "editable": true
   },
   "outputs": [],
   "source": []
  }
 ],
 "metadata": {
  "kernelspec": {
   "display_name": "Python 3",
   "language": "python",
   "name": "python3"
  },
  "language_info": {
   "codemirror_mode": {
    "name": "ipython",
    "version": 3
   },
   "file_extension": ".py",
   "mimetype": "text/x-python",
   "name": "python",
   "nbconvert_exporter": "python",
   "pygments_lexer": "ipython3",
   "version": "3.6.0"
  }
 },
 "nbformat": 4,
 "nbformat_minor": 2
}
